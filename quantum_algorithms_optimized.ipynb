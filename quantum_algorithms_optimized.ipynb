{
 "cells": [
  {
   "cell_type": "markdown",
   "id": "4e5407c2",
   "metadata": {},
   "source": [
    "# Advanced Quantum Algorithms with Qiskit\n",
    "\n",
    "This notebook implements key quantum algorithms using Qiskit with optimizations from recent research. We'll cover Shor's algorithm for factorization, Grover's search algorithm, Deutsch-Jozsa algorithm, and Simon's algorithm with performance optimizations."
   ]
  },
  {
   "cell_type": "markdown",
   "id": "2862c4d1",
   "metadata": {},
   "source": [
    "## Import Required Libraries"
   ]
  },
  {
   "cell_type": "code",
   "execution_count": null,
   "id": "501c6e30",
   "metadata": {},
   "outputs": [
    {
     "ename": "ModuleNotFoundError",
     "evalue": "No module named 'numpy'",
     "output_type": "error",
     "traceback": [
      "\u001b[31m---------------------------------------------------------------------------\u001b[39m",
      "\u001b[31mModuleNotFoundError\u001b[39m                       Traceback (most recent call last)",
      "\u001b[36mCell\u001b[39m\u001b[36m \u001b[39m\u001b[32mIn[1]\u001b[39m\u001b[32m, line 2\u001b[39m\n\u001b[32m      1\u001b[39m \u001b[38;5;66;03m# Import Qiskit and related libraries\u001b[39;00m\n\u001b[32m----> \u001b[39m\u001b[32m2\u001b[39m \u001b[38;5;28;01mimport\u001b[39;00m\u001b[38;5;250m \u001b[39m\u001b[34;01mnumpy\u001b[39;00m\u001b[38;5;250m \u001b[39m\u001b[38;5;28;01mas\u001b[39;00m\u001b[38;5;250m \u001b[39m\u001b[34;01mnp\u001b[39;00m\n\u001b[32m      3\u001b[39m \u001b[38;5;28;01mimport\u001b[39;00m\u001b[38;5;250m \u001b[39m\u001b[34;01mmatplotlib\u001b[39;00m\u001b[34;01m.\u001b[39;00m\u001b[34;01mpyplot\u001b[39;00m\u001b[38;5;250m \u001b[39m\u001b[38;5;28;01mas\u001b[39;00m\u001b[38;5;250m \u001b[39m\u001b[34;01mplt\u001b[39;00m\n\u001b[32m      4\u001b[39m \u001b[38;5;28;01mfrom\u001b[39;00m\u001b[38;5;250m \u001b[39m\u001b[34;01mIPython\u001b[39;00m\u001b[34;01m.\u001b[39;00m\u001b[34;01mdisplay\u001b[39;00m\u001b[38;5;250m \u001b[39m\u001b[38;5;28;01mimport\u001b[39;00m display\n",
      "\u001b[31mModuleNotFoundError\u001b[39m: No module named 'numpy'"
     ]
    },
    {
     "name": "stderr",
     "output_type": "stream",
     "text": [
      "Bad pipe message: %s [b'0.9,image/avif,image/webp,image/apng,*/*;q=0.8,application/signed-exchange;v=b3;q=0.7\\r\\nHost: localhost:42733\\r\\nUs', b'-Agent: Mozilla/5.0 (Windows NT 10.0; Win64; x64) AppleWebKit/537.36 (KHTML, like Gecko) Chrome/135.']\n",
      "Bad pipe message: %s [b'0.0 Safari/537.36\\r\\nAccept-Encoding: gzip, defla']\n",
      "Bad pipe message: %s [b', br, zstd\\r\\nAccept-Language: en-US,en;q=0.9\\r\\nCache-Control: max-age=0\\r\\nReferer: https://github.com/\\r\\nX-Request-ID: ', b'3d61d588292ba4062a78ac9d37b9e1\\r\\nX-Real-IP: 167.89.2', b'.148\\r\\nX-Forwarded-Port: 443\\r\\nX-Forwarded-Scheme']\n",
      "Bad pipe message: %s [b'https\\r\\nX-Original-URI: /\\r\\nX-Scheme: https\\r\\nsec-fetch-site']\n",
      "Bad pipe message: %s [b'cross-site\\r\\nsec-fetch-mode: navigate\\r\\nsec-fetch-dest: doc']\n",
      "Bad pipe message: %s [b'ent\\r\\nsec-ch-ua: \"Google Chrome\";v=\"135\", \"Not-A.Brand\";v=\"8\", \"Chromium\";v=\"135\"\\r\\nsec-ch-ua-mobile: ?0\\r\\nsec-ch-ua-pl', b'form: \"Windows\"\\r\\npriority: u=0, i\\r\\nX-Original-Proto: https\\r\\nX-Forwarded-Proto: https\\r\\nX-Forwarde']\n",
      "Bad pipe message: %s [b'0.9,image/avif,image/webp,image/apng,*/*;q=0.8,application/signed-exchange;v=b3;q=0.7\\r\\nHost: localhost:42733\\r\\nUs', b'-Agent: Mozilla/5.0 (Windows NT 10.0; Win64; x64) AppleWebKit/537.36 (KHTML, like Gecko) Chrome/135.']\n",
      "Bad pipe message: %s [b'0.0 Safari/537.36\\r\\nAccept-Encoding: gzip, defla']\n",
      "Bad pipe message: %s [b', br, zstd\\r\\nAccept-Language: en-US,en;q=0.9\\r\\nReferer: https://upgraded-space-chainsaw-97j5pqq6pp96cx5g.github.dev/\\r', b'-Request-']\n",
      "Bad pipe message: %s [b': 1e595c66642d307afc437a06eab11531\\r\\nX-Real-IP: 167.89.200.148\\r\\nX-Forward']\n",
      "Bad pipe message: %s [b'-Port: 443\\r\\nX-Forwarded-Scheme: https\\r\\nX-Original-URI: /\\r\\nX-Scheme: https\\r\\nsec-ch-ua: \"Google Chrome']\n",
      "Bad pipe message: %s [b'0.9,image/avif,image/webp,image/apng,*/*;q=0.8,application/signed-exchange;v=b3;q=0.7\\r\\nHost: localhost:42733\\r\\nUs', b'-Agent: Mozilla/5.0 (Windows NT 10.0; Win64; x64) AppleWebKit/537.36 (KHTML, like Gecko) Chrome/135.']\n",
      "Bad pipe message: %s [b'0.0 Safari/537.36\\r\\nAccept-Encoding: gzip, defla']\n",
      "Bad pipe message: %s [b', br, zstd\\r\\nAccept-Language: en-US,en;q=0.9\\r\\nReferer: https://upgraded-space-chainsaw-97j5pqq6pp96cx5g.github.dev/\\r', b'-Request-']\n",
      "Bad pipe message: %s [b': 1e595c66642d307afc437a06eab11531\\r\\nX-Real-IP: 167.89.200.148\\r\\nX-Forward']\n",
      "Bad pipe message: %s [b'-Port: 443\\r\\nX-Forwarded-Scheme: https\\r\\nX-Original-URI: /\\r\\nX-Scheme: https\\r\\nsec-ch-ua: \"Google Chrome']\n",
      "Bad pipe message: %s [b'0.9,image/avif,image/webp,image/apng,*/*;q=0.8,application/signed-exchange;v=b3;q=0.7\\r\\nHost: localhost:42733\\r\\nUs', b'-Agent: Mozilla/5.0 (Windows NT 10.0; Win64; x64) AppleWebKit/537.36 (KHTML, like Gecko) Chrome/135.']\n",
      "Bad pipe message: %s [b'0.0 Safari/537.36\\r\\nAccept-Encoding: gzip, defla']\n",
      "Bad pipe message: %s [b', br, zstd\\r\\nAccept-Language: en-US,en;q=0.9\\r\\nCache-Control: max-age=0\\r\\nReferer: https://upgraded-space-chainsaw-97j', b'qq6pp96cx5g.github.dev/\\r\\nX-Request-ID: 0653ab4de7e9d']\n",
      "Bad pipe message: %s [b'e4854d1d84ad56f79\\r\\nX-Real-IP: 167.89.200.148\\r\\nX-Forward']\n",
      "Bad pipe message: %s [b'-Port: 443\\r\\nX-Forwarded-Scheme: https\\r\\nX-Original-URI: /\\r\\nX-Scheme: https\\r\\nsec-ch-ua: \"Google Chrome']\n",
      "Bad pipe message: %s [b'0.9,image/avif,image/webp,image/apng,*/*;q=0.8,application/signed-exchange;v=b3;q=0.7\\r\\nHost: localhost:42733\\r\\nUs', b'-Agent: Mozilla/5.0 (Windows NT 10.0; Win64; x64) AppleWebKit/537.36 (KHTML, like Gecko) Chrome/135.']\n",
      "Bad pipe message: %s [b'0.0 Safari/537.36\\r\\nAccept-Encoding: gzip, defla']\n",
      "Bad pipe message: %s [b', br, zstd\\r\\nAccept-Language: en-US,en;q=0.9\\r\\nCache-Control: max-age=0\\r\\nReferer: https://upgraded-space-chainsaw-97j', b'qq6pp96cx5g.github.dev/\\r\\nX-Request-ID: 0653ab4de7e9d']\n",
      "Bad pipe message: %s [b'e4854d1d84ad56f79\\r\\nX-Real-IP: 167.89.200.148\\r\\nX-Forward']\n",
      "Bad pipe message: %s [b'-Port: 443\\r\\nX-Forwarded-Scheme: https\\r\\nX-Original-URI: /\\r\\nX-Scheme: https\\r\\nsec-ch-ua: \"Google Chrome']\n"
     ]
    }
   ],
   "source": [
    "# Import Qiskit and related libraries\n",
    "import numpy as np\n",
    "import matplotlib.pyplot as plt\n",
    "from IPython.display import display\n",
    "\n",
    "# Core Qiskit imports\n",
    "import qiskit\n",
    "from qiskit import QuantumCircuit, Aer, execute, transpile\n",
    "from qiskit.visualization import plot_histogram, plot_bloch_multivector\n",
    "from qiskit.algorithms import Shor, Grover, AmplificationProblem\n",
    "from qiskit.quantum_info import Statevector\n",
    "\n",
    "# Qiskit tools for optimization\n",
    "from qiskit.providers.aer import AerSimulator\n",
    "from qiskit.providers.aer.backends import QasmSimulator\n",
    "from qiskit.providers.aer import AerError\n",
    "from qiskit.utils import QuantumInstance\n",
    "\n",
    "# Advanced modules for optimization\n",
    "from qiskit.circuit.library import QFT\n",
    "from qiskit.circuit.library.arithmetic import ModularMultiplier, ModularExponentiation\n",
    "\n",
    "print(f\"Qiskit version: {qiskit.__version__}\")"
   ]
  },
  {
   "cell_type": "markdown",
   "id": "922835e6",
   "metadata": {},
   "source": [
    "## Shor's Algorithm (Optimized Factorization)\n",
    "\n",
    "Shor's algorithm provides an exponential speedup for integer factorization compared to classical algorithms. Here we implement it with:\n",
    "- Approximate QFT for circuit depth reduction\n",
    "- Optimized modular exponentiation gates\n",
    "- Post-processing optimizations"
   ]
  },
  {
   "cell_type": "code",
   "execution_count": null,
   "id": "c3629a34",
   "metadata": {},
   "outputs": [],
   "source": [
    "def run_optimized_shor(N, a=None):\n",
    "    \"\"\"\n",
    "    Run Shor's algorithm with optimizations for factoring N\n",
    "    \n",
    "    Args:\n",
    "        N (int): Number to factor, must be odd and > 1\n",
    "        a (int): Optional co-prime to N for the algorithm\n",
    "        \n",
    "    Returns:\n",
    "        tuple: Factors of N if successful, or None\n",
    "    \"\"\"\n",
    "    if N % 2 == 0:\n",
    "        print(f\"N={N} is even, returning trivial factorization\")\n",
    "        return 2, N//2\n",
    "    \n",
    "    # Create quantum instance with optimization level\n",
    "    backend = Aer.get_backend('qasm_simulator')\n",
    "    quantum_instance = QuantumInstance(\n",
    "        backend=backend,\n",
    "        shots=1024,\n",
    "        optimization_level=3,  # Maximum optimization\n",
    "        memory=True\n",
    "    )\n",
    "    \n",
    "    # If a is not provided, choose a random coprime\n",
    "    if a is None:\n",
    "        import math\n",
    "        import random\n",
    "        a = random.randint(2, N-1)\n",
    "        while math.gcd(a, N) != 1:\n",
    "            a = random.randint(2, N-1)\n",
    "    \n",
    "    print(f\"Running Shor's algorithm to factor N={N} using a={a}\")\n",
    "    \n",
    "    # Create Shor's algorithm instance with optimization flag\n",
    "    shor = Shor(\n",
    "        quantum_instance=quantum_instance,\n",
    "        use_approximation=True  # Use approximate QFT for depth reduction\n",
    "    )\n",
    "    \n",
    "    try:\n",
    "        result = shor.factor(N, a=a)\n",
    "        print(f\"Factors: {result.factors}\")\n",
    "        return result.factors[0]\n",
    "    except Exception as e:\n",
    "        print(f\"Error in Shor's algorithm: {e}\")\n",
    "        return None"
   ]
  },
  {
   "cell_type": "code",
   "execution_count": null,
   "id": "c515def8",
   "metadata": {},
   "outputs": [],
   "source": [
    "# Example: Factor 15 using optimized Shor's algorithm\n",
    "factors = run_optimized_shor(15, a=7)\n",
    "print(f\"Factorization result: {factors}\")"
   ]
  },
  {
   "cell_type": "markdown",
   "id": "5c282e31",
   "metadata": {},
   "source": [
    "## Grover's Algorithm (Amplitude Amplification)\n",
    "\n",
    "Grover's algorithm provides quadratic speedup for unstructured search problems. Below we implement Grover's algorithm with:\n",
    "- Custom oracle construction\n",
    "- Amplitude amplification\n",
    "- Optimized diffusion operators"
   ]
  },
  {
   "cell_type": "code",
   "execution_count": null,
   "id": "5594cf6a",
   "metadata": {},
   "outputs": [],
   "source": [
    "def create_grover_oracle(n_qubits, target_state):\n",
    "    \"\"\"\n",
    "    Create a custom oracle for Grover's algorithm that marks the target state\n",
    "    \n",
    "    Args:\n",
    "        n_qubits (int): Number of qubits in the circuit\n",
    "        target_state (str): Binary string representing the target state\n",
    "        \n",
    "    Returns:\n",
    "        QuantumCircuit: Oracle circuit that applies phase flip to target state\n",
    "    \"\"\"\n",
    "    # Create quantum circuit with n qubits\n",
    "    oracle_circuit = QuantumCircuit(n_qubits)\n",
    "    \n",
    "    # Convert target state string to list of bit values\n",
    "    target_bits = [int(bit) for bit in target_state]\n",
    "    \n",
    "    # Apply X gates to qubits where target bit is 0\n",
    "    for qubit, bit in enumerate(target_bits):\n",
    "        if bit == 0:\n",
    "            oracle_circuit.x(qubit)\n",
    "            \n",
    "    # Apply multi-controlled Z gate\n",
    "    oracle_circuit.h(n_qubits-1)\n",
    "    oracle_circuit.mcx(list(range(n_qubits-1)), n_qubits-1)\n",
    "    oracle_circuit.h(n_qubits-1)\n",
    "    \n",
    "    # Apply X gates again to qubits where target bit is 0\n",
    "    for qubit, bit in enumerate(target_bits):\n",
    "        if bit == 0:\n",
    "            oracle_circuit.x(qubit)\n",
    "    \n",
    "    oracle_circuit.name = \"Oracle\"\n",
    "    return oracle_circuit\n",
    "\n",
    "def run_grover_search(n_qubits, target_state):\n",
    "    \"\"\"\n",
    "    Run Grover's algorithm to find the target state\n",
    "    \n",
    "    Args:\n",
    "        n_qubits (int): Number of qubits\n",
    "        target_state (str): Binary string representing target state\n",
    "        \n",
    "    Returns:\n",
    "        dict: Results from the Grover search\n",
    "    \"\"\"\n",
    "    # Create oracle\n",
    "    oracle = create_grover_oracle(n_qubits, target_state)\n",
    "    \n",
    "    # Calculate optimal number of iterations\n",
    "    iterations = int(np.pi/4 * np.sqrt(2**n_qubits))\n",
    "    print(f\"Optimal number of Grover iterations: {iterations}\")\n",
    "    \n",
    "    # Set up the Grover search problem\n",
    "    problem = AmplificationProblem(\n",
    "        oracle=oracle,\n",
    "        state_preparation=None,  # Default uniform superposition\n",
    "        is_good_state=lambda x: x == int(target_state, 2)\n",
    "    )\n",
    "    \n",
    "    # Create and run Grover's algorithm\n",
    "    grover = Grover(quantum_instance=Aer.get_backend('qasm_simulator'))\n",
    "    result = grover.amplify(problem)\n",
    "    \n",
    "    return result\n"
   ]
  },
  {
   "cell_type": "code",
   "execution_count": null,
   "id": "55376e63",
   "metadata": {},
   "outputs": [],
   "source": [
    "# Example: Use Grover's algorithm to find the target state \"101\" in a 3-qubit system\n",
    "n_qubits = 3\n",
    "target_state = \"101\"  # State we're searching for\n",
    "\n",
    "result = run_grover_search(n_qubits, target_state)\n",
    "print(f\"Grover search result: {result.top_measurement}\")\n",
    "\n",
    "# Visualize the results\n",
    "if hasattr(result, 'circuit_results') and result.circuit_results:\n",
    "    plot_histogram(result.circuit_results[0])"
   ]
  },
  {
   "cell_type": "markdown",
   "id": "6543ed5b",
   "metadata": {},
   "source": [
    "## Deutsch-Jozsa Algorithm (Constant/Balanced Detection)\n",
    "\n",
    "The Deutsch-Jozsa algorithm determines whether a function is constant or balanced with a single query. We'll implement it with a dynamic oracle constructor that supports both constant and balanced functions."
   ]
  }
 ],
 "metadata": {
  "kernelspec": {
   "display_name": ".venv",
   "language": "python",
   "name": "python3"
  },
  "language_info": {
   "codemirror_mode": {
    "name": "ipython",
    "version": 3
   },
   "file_extension": ".py",
   "mimetype": "text/x-python",
   "name": "python",
   "nbconvert_exporter": "python",
   "pygments_lexer": "ipython3",
   "version": "3.12.1"
  }
 },
 "nbformat": 4,
 "nbformat_minor": 5
}
